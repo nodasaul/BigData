{
 "cells": [
  {
   "cell_type": "code",
   "execution_count": 1,
   "metadata": {},
   "outputs": [
    {
     "data": {
      "text/html": [
       "\n",
       "        <div>\n",
       "            <p><b>SparkContext</b></p>\n",
       "\n",
       "            <p><a href=\"http://192.168.83.102:4044\">Spark UI</a></p>\n",
       "\n",
       "            <dl>\n",
       "              <dt>Version</dt>\n",
       "                <dd><code>v2.3.0</code></dd>\n",
       "              <dt>Master</dt>\n",
       "                <dd><code>local[*]</code></dd>\n",
       "              <dt>AppName</dt>\n",
       "                <dd><code>PySparkShell</code></dd>\n",
       "            </dl>\n",
       "        </div>\n",
       "        "
      ],
      "text/plain": [
       "<SparkContext master=local[*] appName=PySparkShell>"
      ]
     },
     "execution_count": 1,
     "metadata": {},
     "output_type": "execute_result"
    }
   ],
   "source": [
    "sc"
   ]
  },
  {
   "cell_type": "code",
   "execution_count": 2,
   "metadata": {},
   "outputs": [
    {
     "data": {
      "text/plain": [
       "[u'cartodb_id,the_geom,tripduration,starttime,stoptime,start_station_id,start_station_name,start_station_latitude,start_station_longitude,end_station_id,end_station_name,end_station_latitude,end_station_longitude,bikeid,usertype,birth_year,gender',\n",
       " u'1,,801,2015-02-01 00:00:00+00,2015-02-01 00:14:00+00,521,8 Ave & W 31 St,40.75044999,-73.99481051,423,W 54 St & 9 Ave,40.76584941,-73.98690506,17131,Subscriber,1978,2']"
      ]
     },
     "execution_count": 2,
     "metadata": {},
     "output_type": "execute_result"
    }
   ],
   "source": [
    "taxi = sc.textFile('yellow.csv.gz')\n",
    "bike = sc.textFile('citibike.csv')\n",
    "list(enumerate(bike.take(1)[0].split(',')))\n",
    "\n",
    "bike.take(2)"
   ]
  },
  {
   "cell_type": "code",
   "execution_count": 3,
   "metadata": {},
   "outputs": [
    {
     "data": {
      "text/plain": [
       "['2015-02-01 00:05:00',\n",
       " '2015-02-01 00:05:00',\n",
       " '2015-02-01 00:50:00',\n",
       " '2015-02-01 01:30:00',\n",
       " '2015-02-01 03:28:00']"
      ]
     },
     "execution_count": 3,
     "metadata": {},
     "output_type": "execute_result"
    }
   ],
   "source": [
    "def filterBike(pId, lines):\n",
    "    import csv\n",
    "    for row in csv.reader(lines):\n",
    "        if (row[6] == 'Greenwich Ave & 8 Ave' and \n",
    "            row[3].startswith('2015-02-01')):\n",
    "            yield (row[3][:19])\n",
    "            \n",
    "gBike = bike.mapPartitionsWithIndex(filterBike).cache()\n",
    "gBike.take(5)"
   ]
  },
  {
   "cell_type": "code",
   "execution_count": 4,
   "metadata": {},
   "outputs": [
    {
     "data": {
      "text/plain": [
       "u'10,,585,2015-02-01 00:05:00+00,2015-02-01 00:15:00+00,284,Greenwich Ave & 8 Ave,40.73901691,-74.00263761,444,Broadway & W 24 St,40.7423543,-73.98915076,14843,Subscriber,1982,1'"
      ]
     },
     "execution_count": 4,
     "metadata": {},
     "output_type": "execute_result"
    }
   ],
   "source": [
    "bike.filter(lambda x: 'Greenwich Ave & 8 Ave' in x).first()"
   ]
  },
  {
   "cell_type": "code",
   "execution_count": 5,
   "metadata": {},
   "outputs": [
    {
     "data": {
      "text/plain": [
       "[['2015-02-01 00:00:00.0',\n",
       "  '2015-02-01 00:10:10.0',\n",
       "  '40.775485992431641',\n",
       "  '-73.95855712890625',\n",
       "  '40.720134735107422',\n",
       "  '-73.9749755859375'],\n",
       " ['2015-02-01 00:00:00.0',\n",
       "  '2015-02-01 00:03:36.0',\n",
       "  '40.728248596191406',\n",
       "  '-73.984840393066406',\n",
       "  '40.731391906738281',\n",
       "  '-73.975341796875'],\n",
       " ['2015-02-01 00:00:00.0',\n",
       "  '2015-02-01 00:10:32.0',\n",
       "  '40.731014251708984',\n",
       "  '-74.001373291015625',\n",
       "  '40.749237060546875',\n",
       "  '-74.003067016601562'],\n",
       " ['2015-02-01 00:00:00.0',\n",
       "  '2015-02-01 00:19:42.0',\n",
       "  '40.721115112304688',\n",
       "  '-73.987129211425781',\n",
       "  '40.794017791748047',\n",
       "  '-73.96990966796875'],\n",
       " ['2015-02-01 00:00:00.0',\n",
       "  '2015-02-01 00:03:11.0',\n",
       "  '40.756072998046875',\n",
       "  '-73.983413696289062',\n",
       "  '40.756237030029297',\n",
       "  '-73.975303649902344']]"
      ]
     },
     "execution_count": 5,
     "metadata": {},
     "output_type": "execute_result"
    }
   ],
   "source": [
    "def filterTaxi(pId, lines):\n",
    "    if pId==0:\n",
    "        next(lines)\n",
    "    import csv\n",
    "    for row in csv.reader(lines):\n",
    "            yield row\n",
    "            \n",
    "gTaxi = taxi.mapPartitionsWithIndex(filterTaxi).cache()\n",
    "gTaxi.take(5)"
   ]
  },
  {
   "cell_type": "code",
   "execution_count": 6,
   "metadata": {},
   "outputs": [],
   "source": [
    "import pyproj"
   ]
  },
  {
   "cell_type": "code",
   "execution_count": 7,
   "metadata": {},
   "outputs": [
    {
     "data": {
      "text/plain": [
       "['2015-02-01 00:11:03',\n",
       " '2015-02-01 00:10:23',\n",
       " '2015-02-01 00:16:36',\n",
       " '2015-02-01 00:10:14',\n",
       " '2015-02-01 00:10:12']"
      ]
     },
     "execution_count": 7,
     "metadata": {},
     "output_type": "execute_result"
    }
   ],
   "source": [
    "def filterTaxi(pId, lines):\n",
    "    if pId==0:\n",
    "        next(lines)\n",
    "    import csv\n",
    "    import pyproj\n",
    "    proj = pyproj.Proj(init=\"epsg:2263\", preserve_units=True)\n",
    "    gLoc = proj(-74.00263761, 40.73901691)\n",
    "    sqm = 1320**2\n",
    "    for row in csv.reader(lines):\n",
    "        try:\n",
    "            dropOff = proj(float(row[5]), float(row[4]))\n",
    "        except:\n",
    "            continue\n",
    "        sDistance = (dropOff[0]-gLoc[0])**2 + (dropOff[1]-gLoc[1])**2\n",
    "        if sDistance<sqm: # 0.25 mile to feet \n",
    "            yield row[1][:19]\n",
    "            \n",
    "gTaxi = taxi.mapPartitionsWithIndex(filterTaxi).cache()\n",
    "gTaxi.take(5)"
   ]
  },
  {
   "cell_type": "code",
   "execution_count": 8,
   "metadata": {},
   "outputs": [],
   "source": [
    "lBike = gBike.collect()\n",
    "lTaxi = gTaxi.collect()"
   ]
  },
  {
   "cell_type": "code",
   "execution_count": 9,
   "metadata": {},
   "outputs": [
    {
     "name": "stdout",
     "output_type": "stream",
     "text": [
      "2015-02-01 00:11:03\n",
      "2015-02-01 00:05:00\n"
     ]
    }
   ],
   "source": [
    "print(lTaxi[0])\n",
    "print(lBike[0])"
   ]
  },
  {
   "cell_type": "code",
   "execution_count": 10,
   "metadata": {},
   "outputs": [
    {
     "name": "stdout",
     "output_type": "stream",
     "text": [
      "65\n"
     ]
    }
   ],
   "source": [
    "import datetime\n",
    "count = 0\n",
    "for b in lBike:\n",
    "    bt = datetime.datetime.strptime(b, '%Y-%m-%d %H:%M:%S')\n",
    "    for t in lTaxi:\n",
    "        tt = datetime.datetime.strptime(t, '%Y-%m-%d %H:%M:%S')\n",
    "        diff = (bt-tt).total_seconds()\n",
    "        if diff>0 and diff<600:\n",
    "            count += 1\n",
    "            break\n",
    "print(count)"
   ]
  },
  {
   "cell_type": "code",
   "execution_count": 11,
   "metadata": {},
   "outputs": [
    {
     "data": {
      "text/plain": [
       "[('2015-02-01 00:05:00', 0),\n",
       " ('2015-02-01 00:05:00', 0),\n",
       " ('2015-02-01 00:05:00', 1),\n",
       " ('2015-02-01 00:05:00', 1),\n",
       " ('2015-02-01 00:50:00', 0)]"
      ]
     },
     "execution_count": 11,
     "metadata": {},
     "output_type": "execute_result"
    }
   ],
   "source": [
    "gAll = gBike.map(lambda x: (x, 0)) + gBike.map(lambda x: (x, 1))   # concat two rdds\n",
    "gAll.sortByKey().take(5)"
   ]
  },
  {
   "cell_type": "code",
   "execution_count": 12,
   "metadata": {},
   "outputs": [
    {
     "data": {
      "text/plain": [
       "65"
      ]
     },
     "execution_count": 12,
     "metadata": {},
     "output_type": "execute_result"
    }
   ],
   "source": [
    "def findTrips(_, records):\n",
    "    import datetime\n",
    "    for dt,event in records:\n",
    "        t = datetime.datetime.strptime(b, '%Y-%m-%d %H:%M:%S')\n",
    "        if event==1:\n",
    "            if lastTaxiTime!=None:\n",
    "                if (t-lastTaxiTime).total_seconds()<600:\n",
    "                    yield (dt, event)\n",
    "        else:\n",
    "            lastTaxiTime = t\n",
    "            \n",
    "gAll.sortByKey().mapPartitionsWithIndex(findTrips).count()"
   ]
  },
  {
   "cell_type": "code",
   "execution_count": null,
   "metadata": {},
   "outputs": [],
   "source": []
  }
 ],
 "metadata": {
  "kernelspec": {
   "display_name": "Python 2",
   "language": "python",
   "name": "python2"
  },
  "language_info": {
   "codemirror_mode": {
    "name": "ipython",
    "version": 2
   },
   "file_extension": ".py",
   "mimetype": "text/x-python",
   "name": "python",
   "nbconvert_exporter": "python",
   "pygments_lexer": "ipython2",
   "version": "2.7.14"
  }
 },
 "nbformat": 4,
 "nbformat_minor": 2
}
